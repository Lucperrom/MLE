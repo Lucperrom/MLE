{
 "cells": [
  {
   "cell_type": "markdown",
   "metadata": {},
   "source": [
    "Importamos las bibliotecas necesarias para trabajar con datos, algoritmos de Machine Learning y visualización."
   ]
  },
  {
   "cell_type": "code",
   "execution_count": 1,
   "metadata": {},
   "outputs": [],
   "source": [
    "import pandas as pd\n",
    "import numpy as np\n",
    "import matplotlib.pyplot as plt\n",
    "from sklearn import preprocessing\n",
    "from sklearn.model_selection import cross_val_score\n",
    "from sklearn.linear_model import LinearRegression\n",
    "from sklearn.feature_selection import RFE\n",
    "from sklearn.preprocessing import StandardScaler, MinMaxScaler, OrdinalEncoder\n",
    "from sklearn.pipeline import Pipeline\n",
    "from sklearn.compose import ColumnTransformer"
   ]
  },
  {
   "cell_type": "markdown",
   "metadata": {},
   "source": [
    "Configuramos una semilla aleatoria para reproducibilidad."
   ]
  },
  {
   "cell_type": "code",
   "execution_count": 2,
   "metadata": {},
   "outputs": [],
   "source": [
    "np.random.seed(123)"
   ]
  },
  {
   "cell_type": "markdown",
   "metadata": {},
   "source": [
    "Cargamos el dataset que contiene indicadores de salud y diagnósticos de diabetes."
   ]
  },
  {
   "cell_type": "code",
   "execution_count": 3,
   "metadata": {},
   "outputs": [],
   "source": [
    "data = pd.read_csv('../data/diabetes_binary_5050split_health_indicators_BRFSS2015.csv')\n",
    "\n",
    "X = data.drop('Diabetes_binary', axis=1)\n",
    "y = data['Diabetes_binary']\n",
    "\n",
    "# Identificar tipos de columnas\n",
    "binary_columns = ['HighBP', 'HighChol', 'CholCheck', 'Smoker', 'Stroke', 'HeartDiseaseorAttack',\n",
    "                  'PhysActivity', 'Fruits', 'Veggies', 'HvyAlcoholConsump', 'AnyHealthcare',\n",
    "                  'NoDocbcCost', 'DiffWalk', 'Sex']\n",
    "categorical_columns = ['GenHlth', 'Age', 'Education', 'Income']\n",
    "continuous_columns = ['BMI', 'MentHlth', 'PhysHlth']\n",
    "\n",
    "\n",
    "# Si las columnas categóricas no tuviesen orden, sería una buena praxis definir un pipeline.\n",
    "# OrdinalEncoder captura el orden lógico de las categoría, mientras que MinMaxScaler normaliza las categorías al rango [0, 1] para evitar sesgos.\n",
    "# Para este caso particular, como hemos nombrado, no es necesario, pero es algo a tener en cuenta para otro tipo de dataset.\n",
    "categorical_pipeline = Pipeline([\n",
    "    ('ordinal', OrdinalEncoder()),\n",
    "    ('scaler', MinMaxScaler())     \n",
    "])\n",
    "\n",
    "# Preprocesamos los datos transformando las columnas según aplique\n",
    "preprocessor = ColumnTransformer(\n",
    "    transformers=[\n",
    "        ('binary', 'passthrough', binary_columns),\n",
    "        ('categorical', 'passthrough', categorical_columns),\n",
    "        ('continuous', StandardScaler(), continuous_columns)\n",
    "    ]\n",
    ")\n",
    "\n",
    "# Aplicamos el preprocesamiento\n",
    "X = preprocessor.fit_transform(X)\n",
    "\n",
    "column_names = preprocessor.get_feature_names_out()"
   ]
  },
  {
   "cell_type": "markdown",
   "metadata": {},
   "source": [
    "Evaluamos el dataset. En primer lugar normalizamos los datos y aplicamos validación cruzada."
   ]
  },
  {
   "cell_type": "code",
   "execution_count": 4,
   "metadata": {},
   "outputs": [],
   "source": [
    "def evalua(X, y, regresor=LinearRegression()):\n",
    "    scaler = preprocessing.StandardScaler().fit(X)\n",
    "    X_scaled = scaler.transform(X)\n",
    "    scores = cross_val_score(regresor, X_scaled, y, cv=5)\n",
    "    return scores.mean()"
   ]
  },
  {
   "cell_type": "markdown",
   "metadata": {},
   "source": [
    "Aplicamos el selector RFE sobre X usando como estimador base LinearRegression, y mostramos el ranking de atributos resultante"
   ]
  },
  {
   "cell_type": "code",
   "execution_count": 5,
   "metadata": {},
   "outputs": [
    {
     "data": {
      "text/plain": [
       "array([ 2,  5,  7, 20, 15, 10, 17, 19, 16,  6, 18, 21, 12,  9,  1,  4, 13,\n",
       "        8,  3, 14, 11])"
      ]
     },
     "execution_count": 5,
     "metadata": {},
     "output_type": "execute_result"
    }
   ],
   "source": [
    "scaler = preprocessing.StandardScaler().fit(X)\n",
    "X_scaled = scaler.transform(X)\n",
    "selector_RFE = RFE(LinearRegression(), n_features_to_select=1)\n",
    "selector_RFE.fit(X_scaled,y)\n",
    "ranking_X = selector_RFE.ranking_\n",
    "\n",
    "ranking_X"
   ]
  },
  {
   "cell_type": "markdown",
   "metadata": {},
   "source": [
    "Construimos una lista ordenada de los nombres de atributos a partir de un ranking y su correspondiente matriz X."
   ]
  },
  {
   "cell_type": "code",
   "execution_count": 6,
   "metadata": {},
   "outputs": [
    {
     "name": "stdout",
     "output_type": "stream",
     "text": [
      "Posiciones atributos [(1, 'GenHlth'), (2, 'HighBP'), (3, 'BMI'), (4, 'Age'), (5, 'HighChol'), (6, 'HvyAlcoholConsump'), (7, 'CholCheck'), (8, 'Income'), (9, 'Sex'), (10, 'HeartDiseaseorAttack'), (11, 'PhysHlth'), (12, 'DiffWalk'), (13, 'Education'), (14, 'MentHlth'), (15, 'Stroke'), (16, 'Veggies'), (17, 'PhysActivity'), (18, 'AnyHealthcare'), (19, 'Fruits'), (20, 'Smoker'), (21, 'NoDocbcCost')]\n"
     ]
    }
   ],
   "source": [
    "def ranking_nombres_atributos(ranking, nombres_atributos):\n",
    "    posiciones_atributos = list(zip(ranking, list(nombres_atributos)))\n",
    "    posiciones_atributos.sort()\n",
    "    print(\"Posiciones atributos\", posiciones_atributos)\n",
    "    return([a for _,a in posiciones_atributos])\n",
    "\n",
    "column_names = [col.replace(\"binary__\", \"\").replace(\"categorical__\", \"\").replace(\"continuous__\", \"\") \n",
    "                        for col in column_names]\n",
    "atributos = ranking_nombres_atributos(ranking_X, column_names)"
   ]
  },
  {
   "cell_type": "markdown",
   "metadata": {},
   "source": [
    "De esta manera, observamos que los atributos de mayor relevancia son:\n",
    "1. GenHlth: Indica si el paciente tiene una buena salud en general\n",
    "2. HighBP: Indica si el paciente tiene la presión arterial alta\n",
    "3. BMI: Indica el índice de masa corporal\n",
    "4. Age: Indica la categoría de edad del paciente\n",
    "5. HighChol: Indica si el paciente tiene colesterol alto\n",
    "\n",
    "..."
   ]
  },
  {
   "cell_type": "markdown",
   "metadata": {},
   "source": [
    "A partir de este punto, comprobamos el efecto de eliminar uno a uno los peores atributos de una matriz X, y se evalua el dataset que va quedando"
   ]
  },
  {
   "cell_type": "code",
   "execution_count": 7,
   "metadata": {},
   "outputs": [],
   "source": [
    "def evolucion_quitando_peor_atributo(X, y, selector_rfe):\n",
    "    '''     \n",
    "    Entrada:\n",
    "       - X: dataframe con los atributos\n",
    "       - y: serie con la clase\n",
    "       - selector_rfe: selector RFE usado\n",
    "    Salida:\n",
    "       - Gráfica con la evolución\n",
    "       - Mejor resultado obtenido\n",
    "    '''\n",
    "    selector_rfe.fit(X,y)\n",
    "    ranking = selector_rfe.ranking_\n",
    "    resultados = []\n",
    "    atributos_seleccionados = ranking_nombres_atributos(ranking, X.columns)\n",
    "    for i in range(len(ranking)):\n",
    "        X_sel = X[atributos_seleccionados]\n",
    "        resultado = evalua(X_sel, y)\n",
    "        resultados.append(resultado)\n",
    "        atributos_seleccionados = atributos_seleccionados[:-1]\n",
    "    plt.plot(resultados)\n",
    "    plt.show()\n",
    "    return(max(resultados))"
   ]
  },
  {
   "cell_type": "markdown",
   "metadata": {},
   "source": [
    "Finalmente, calculamos el resultado sobre X sin selección, y a su vez, el mejor resultado obtenido sobre X en la secuencia de experimentos RFE."
   ]
  },
  {
   "cell_type": "code",
   "execution_count": 8,
   "metadata": {},
   "outputs": [
    {
     "name": "stdout",
     "output_type": "stream",
     "text": [
      "Posiciones atributos [(1, 14), (2, 0), (3, 18), (4, 15), (5, 1), (6, 9), (7, 2), (8, 17), (9, 13), (10, 5), (11, 20), (12, 12), (13, 16), (14, 19), (15, 4), (16, 8), (17, 6), (18, 10), (19, 7), (20, 3), (21, 11)]\n"
     ]
    },
    {
     "data": {
      "image/png": "[encoded data removed]",
      "text/plain": [
       "<Figure size 640x480 with 1 Axes>"
      ]
     },
     "metadata": {},
     "output_type": "display_data"
    },
    {
     "data": {
      "text/html": [
       "<div>\n",
       "<style scoped>\n",
       "    .dataframe tbody tr th:only-of-type {\n",
       "        vertical-align: middle;\n",
       "    }\n",
       "\n",
       "    .dataframe tbody tr th {\n",
       "        vertical-align: top;\n",
       "    }\n",
       "\n",
       "    .dataframe thead th {\n",
       "        text-align: right;\n",
       "    }\n",
       "</style>\n",
       "<table border=\"1\" class=\"dataframe\">\n",
       "  <thead>\n",
       "    <tr style=\"text-align: right;\">\n",
       "      <th></th>\n",
       "      <th>X</th>\n",
       "      <th>Mejora para X</th>\n",
       "    </tr>\n",
       "  </thead>\n",
       "  <tbody>\n",
       "    <tr>\n",
       "      <th>RFE - LR</th>\n",
       "      <td>0.059976</td>\n",
       "      <td>0.000071</td>\n",
       "    </tr>\n",
       "  </tbody>\n",
       "</table>\n",
       "</div>"
      ],
      "text/plain": [
       "                 X  Mejora para X\n",
       "RFE - LR  0.059976       0.000071"
      ]
     },
     "execution_count": 8,
     "metadata": {},
     "output_type": "execute_result"
    }
   ],
   "source": [
    "scaler1 = preprocessing.StandardScaler().fit(X)\n",
    "X = pd.DataFrame(scaler1.transform(X))\n",
    "\n",
    "resultado_X = evalua(X, y)\n",
    "resultado_X_seleccion = evolucion_quitando_peor_atributo(X, y, RFE(LinearRegression(), n_features_to_select=1))\n",
    "\n",
    "RESULTADOS = pd.DataFrame(columns=['X', 'Mejora para X'])\n",
    "RESULTADOS.loc['RFE - LR'] = (resultado_X_seleccion, resultado_X_seleccion-resultado_X)\n",
    "RESULTADOS"
   ]
  },
  {
   "cell_type": "markdown",
   "metadata": {},
   "source": [
    "Si analizamos el gráfico, podemos observar que a partir del atributo 32 la función decrece significativamente. De esta manera, todos los atributos situados más a la derecha en el ranking empeoran el modelo. Vamos a comprobar cuáles son, y si resulta haber diferencia respecto al modelo de selección 1, donde inicialmente no se han realizado técnicas de transformación de las columnas."
   ]
  },
  {
   "cell_type": "code",
   "execution_count": 9,
   "metadata": {},
   "outputs": [
    {
     "name": "stdout",
     "output_type": "stream",
     "text": [
      "['AnyHealthcare', 'Education', 'Fruits', 'MentHlth', 'NoDocbcCost', 'PhysActivity', 'Smoker', 'Stroke', 'Veggies']\n"
     ]
    }
   ],
   "source": [
    "print(sorted(atributos[12:]))"
   ]
  },
  {
   "cell_type": "markdown",
   "metadata": {},
   "source": [
    "Evaluamos los resultados obtenidos en cada proceso de selección para determinar si es beneficioso transformar las columnas.\n",
    "\n",
    "Conjunto de atributos a eliminar según el notebook Seleccion.ipynb:\n",
    "\n",
    "- Solución: ['AnyHealthcare', 'Education', 'Fruits', 'MentHlth', 'NoDocbcCost', 'PhysActivity', 'Smoker', 'Stroke', 'Veggies']\n",
    "\n",
    "Conjunto de atributos a eliminar según el notebook Seleccion-transformada.ipynb:\n",
    "\n",
    "- Solución: ['AnyHealthcare', 'Education', 'Fruits', 'MentHlth', 'NoDocbcCost', 'PhysActivity', 'Smoker', 'Stroke', 'Veggies']\n",
    "\n",
    "En conclusión, transformar las columnas no produce cambios en las redundancia de los atributos. Como siguiente paso, vamos a comprobar en los ficheros knn_minkowski_sin_seleccion.ipynb y knn_minkowski_seleccion.ipynb si eliminar los atributos irrelevantes conlleva un menor ruido en el cálculo de distancias, y por ende, un mejor resultado.\n"
   ]
  }
 ],
 "metadata": {
  "kernelspec": {
   "display_name": "Python 3",
   "language": "python",
   "name": "python3"
  },
  "language_info": {
   "codemirror_mode": {
    "name": "ipython",
    "version": 3
   },
   "file_extension": ".py",
   "mimetype": "text/x-python",
   "name": "python",
   "nbconvert_exporter": "python",
   "pygments_lexer": "ipython3",
   "version": "3.11.8"
  }
 },
 "nbformat": 4,
 "nbformat_minor": 2
}
