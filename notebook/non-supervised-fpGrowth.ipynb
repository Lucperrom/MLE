{
 "cells": [
  {
   "cell_type": "markdown",
   "id": "c561048c",
   "metadata": {},
   "source": [
    "\n",
    "---\n",
    "title: \"Análisis de Riesgo de Diabetes\"\n",
    "---\n",
    "\n",
    "# Introducción\n",
    "\n",
    "La diabetes es una condición crónica que afecta a millones de personas en todo el mundo, con consecuencias importantes para la salud y la economía. Los factores de riesgo incluyen, entre otros, el sobrepeso, la inactividad física y la predisposición genética. La detección temprana del riesgo de diabetes es esencial para prevenir la aparición de la enfermedad y minimizar sus efectos.\n",
    "\n",
    "Este análisis tiene como objetivo encontrar reglas de asociación en perfiles de individuos con diabetes. Los datos provienen del Behavioral Risk Factor Surveillance System (BRFSS) de 2015, una encuesta de salud pública que recopila información sobre factores de riesgo relacionados con la salud en adultos en los Estados Unidos.\n",
    "\n",
    "Para este análisis, utilizaremos Python y el paquete de pandas para manipular y analizar los datos.\n",
    "\n",
    "## Carga de Librerías\n",
    "\n",
    "Primero, instalaremos y cargaremos las librerías necesarias para este análisis.\n",
    "\n"
   ]
  },
  {
   "cell_type": "code",
   "execution_count": 1,
   "id": "77c8226b",
   "metadata": {},
   "outputs": [],
   "source": [
    "# Lectura del dataset proyectos.csv\n",
    "import pandas as pd\n",
    "from mlxtend.frequent_patterns import fpgrowth, association_rules, apriori\n",
    "from mlxtend.preprocessing import TransactionEncoder\n",
    "import seaborn as sns\n",
    "import matplotlib.pyplot as plt"
   ]
  },
  {
   "cell_type": "markdown",
   "id": "6a156d65",
   "metadata": {},
   "source": [
    "\n",
    "## Carga de Datos\n",
    "\n",
    "A continuación, cargaremos los datos del archivo `diabetes_binary_5050split_health_indicators_BRFSS2015.csv`, el cual debe estar en el mismo directorio que este notebook. Verificaremos las primeras filas para entender la estructura del conjunto de datos.\n",
    "\n"
   ]
  },
  {
   "cell_type": "code",
   "execution_count": null,
   "id": "d4f73f18",
   "metadata": {},
   "outputs": [
    {
     "name": "stdout",
     "output_type": "stream",
     "text": [
      "Diabetes_binary         float64\n",
      "HighBP                  float64\n",
      "HighChol                float64\n",
      "BMI                     float64\n",
      "Smoker                  float64\n",
      "Stroke                  float64\n",
      "HeartDiseaseorAttack    float64\n",
      "PhysActivity            float64\n",
      "Fruits                  float64\n",
      "Veggies                 float64\n",
      "HvyAlcoholConsump       float64\n",
      "NoDocbcCost             float64\n",
      "GenHlth                 float64\n",
      "MentHlth                float64\n",
      "PhysHlth                float64\n",
      "DiffWalk                float64\n",
      "Sex                     float64\n",
      "Age                     float64\n",
      "Education               float64\n",
      "Income                  float64\n",
      "dtype: object\n",
      "   Diabetes_binary  HighBP  HighChol   BMI  Smoker  Stroke  \\\n",
      "0              0.0     1.0       0.0  26.0     0.0     0.0   \n",
      "1              0.0     1.0       1.0  26.0     1.0     1.0   \n",
      "2              0.0     0.0       0.0  26.0     0.0     0.0   \n",
      "3              0.0     1.0       1.0  28.0     1.0     0.0   \n",
      "4              0.0     0.0       0.0  29.0     1.0     0.0   \n",
      "\n",
      "   HeartDiseaseorAttack  PhysActivity  Fruits  Veggies  HvyAlcoholConsump  \\\n",
      "0                   0.0           1.0     0.0      1.0                0.0   \n",
      "1                   0.0           0.0     1.0      0.0                0.0   \n",
      "2                   0.0           1.0     1.0      1.0                0.0   \n",
      "3                   0.0           1.0     1.0      1.0                0.0   \n",
      "4                   0.0           1.0     1.0      1.0                0.0   \n",
      "\n",
      "   NoDocbcCost  GenHlth  MentHlth  PhysHlth  DiffWalk  Sex   Age  Education  \\\n",
      "0          0.0      3.0       5.0      30.0       0.0  1.0   4.0        6.0   \n",
      "1          0.0      3.0       0.0       0.0       0.0  1.0  12.0        6.0   \n",
      "2          0.0      1.0       0.0      10.0       0.0  1.0  13.0        6.0   \n",
      "3          0.0      3.0       0.0       3.0       0.0  1.0  11.0        6.0   \n",
      "4          0.0      2.0       0.0       0.0       0.0  0.0   8.0        5.0   \n",
      "\n",
      "   Income  \n",
      "0     8.0  \n",
      "1     8.0  \n",
      "2     8.0  \n",
      "3     8.0  \n",
      "4     8.0  \n",
      "(70692, 20)\n"
     ]
    }
   ],
   "source": [
    "#Carga de datos\n",
    "data = pd.read_csv('../data/diabetes_binary_5050split_health_indicators_BRFSS2015.csv')\n",
    "data = data.drop(columns=['CholCheck', 'AnyHealthcare'])\n",
    "# Ver nombres de columnas y tipos de datos\n",
    "print(data.dtypes)\n",
    "\n",
    "# Mostrar las primeras filas del conjunto de datos\n",
    "print(data.head())\n",
    "\n",
    "# Mostrar las dimensiones del conjunto de datos (filas, columnas)\n",
    "print(data.shape)\n"
   ]
  },
  {
   "cell_type": "markdown",
   "id": "c79458b2",
   "metadata": {},
   "source": [
    "\n",
    "# Preprocesamiento de Datos\n",
    "\n",
    "En esta sección, realizaremos el preprocesamiento básico de los datos, incluyendo la conversión de columnas binarias (0-1) a variables booleanas, lo cual facilita el análisis.\n",
    "\n"
   ]
  },
  {
   "cell_type": "code",
   "execution_count": 3,
   "id": "5c3d88a6",
   "metadata": {},
   "outputs": [],
   "source": [
    "# Identificar las columnas binarias\n",
    "binary_columns = ['Diabetes_binary', 'HighBP', 'HighChol', 'Smoker', \n",
    "                  'Stroke', 'HeartDiseaseorAttack', 'PhysActivity', 'Fruits', \n",
    "                  'Veggies', 'HvyAlcoholConsump', 'NoDocbcCost', \n",
    "                  'DiffWalk', 'Sex']\n",
    "\n",
    "# Convertir variables binarias de float a booleano\n",
    "data[binary_columns] = data[binary_columns].astype(bool)\n",
    "\n",
    "\n",
    "# Crear una representación de transacciones\n",
    "transactions = []\n",
    "\n",
    "for _, row in data.iterrows():\n",
    "    transaction = []\n",
    "    \n",
    "    # Agregar las variables binarias como nombres de columna cuando el valor es True\n",
    "    for col in binary_columns:\n",
    "        if row[col]:\n",
    "            transaction.append(col)\n",
    "    \n",
    "    # Convertir variables categóricas en ítems únicos\n",
    "    transaction.append(f\"BMI_{row['BMI']}\")\n",
    "    transaction.append(f\"GenHlth_{row['GenHlth']}\")\n",
    "    transaction.append(f\"MentHlth_{row['MentHlth']}\")\n",
    "    transaction.append(f\"PhysHlth_{row['PhysHlth']}\")\n",
    "    transaction.append(f\"Age_{row['Age']}\")\n",
    "    transaction.append(f\"Education_{row['Education']}\")\n",
    "    transaction.append(f\"Income_{row['Income']}\")\n",
    "    \n",
    "    transactions.append(transaction)\n",
    "\n",
    "# Transformar las transacciones a formato binario para fpgrowth\n",
    "te = TransactionEncoder()\n",
    "te_ary = te.fit(transactions).transform(transactions)\n",
    "df = pd.DataFrame(te_ary, columns=te.columns_)"
   ]
  },
  {
   "cell_type": "code",
   "execution_count": 12,
   "id": "cb0fe916",
   "metadata": {},
   "outputs": [
    {
     "name": "stdout",
     "output_type": "stream",
     "text": [
      "Index(['Age_1.0', 'Age_10.0', 'Age_11.0', 'Age_12.0', 'Age_13.0', 'Age_2.0',\n",
      "       'Age_3.0', 'Age_4.0', 'Age_5.0', 'Age_6.0',\n",
      "       ...\n",
      "       'PhysHlth_4.0', 'PhysHlth_5.0', 'PhysHlth_6.0', 'PhysHlth_7.0',\n",
      "       'PhysHlth_8.0', 'PhysHlth_9.0', 'Sex', 'Smoker', 'Stroke', 'Veggies'],\n",
      "      dtype='object', length=187)\n"
     ]
    }
   ],
   "source": [
    "print (df.columns)"
   ]
  },
  {
   "cell_type": "markdown",
   "id": "0aff8a33",
   "metadata": {},
   "source": [
    "### FP-GROWTH"
   ]
  },
  {
   "cell_type": "markdown",
   "id": "80d7b7b3",
   "metadata": {},
   "source": [
    "\n",
    "El algoritmo FP-Growth es una técnica eficiente para descubrir patrones frecuentes en conjuntos de datos sin generar combinaciones explícitas. Su principal ventaja es el uso de un árbol de patrones frecuentes (FP-tree) para representar transacciones de forma compacta, reduciendo la memoria y el tiempo de procesamiento, especialmente en grandes volúmenes de datos. FP-Growth es escalable, evita la generación de candidatos, y es particularmente eficaz en datos dispersos donde pocas combinaciones ocurren con frecuencia. Estas características lo convierten en una opción superior para manejar datos complejos y voluminosos.\n",
    "\n",
    "En el análisis de diabetes, síntomas y estilo de vida, FP-Growth puede descubrir relaciones frecuentes entre hábitos y diagnósticos, identificar patrones de coocurrencia de síntomas y proporcionar bases para recomendaciones personalizadas. Su eficiencia y capacidad para extraer patrones complejos hacen de FP-Growth una herramienta ideal para extraer conocimientos significativos de datos clínicos grandes y multifacéticos."
   ]
  },
  {
   "cell_type": "code",
   "execution_count": null,
   "id": "c91b2670",
   "metadata": {},
   "outputs": [],
   "source": [
    "# Aplicar el algoritmo FP-Growth\n",
    "frequent_itemsets_fp = fpgrowth(df, min_support=0.01, use_colnames=True, max_len=3)\n",
    "\n",
    "# Mostrar los conjuntos de ítems frecuentes\n",
    "print(frequent_itemsets_fp)"
   ]
  },
  {
   "cell_type": "code",
   "execution_count": 5,
   "id": "47bce5e7",
   "metadata": {},
   "outputs": [
    {
     "name": "stdout",
     "output_type": "stream",
     "text": [
      "\n",
      "==== Mejores reglas con mayor confianza ====\n",
      "                       antecedents     consequents  antecedent support  \\\n",
      "126           (Fruits, Income_8.0)       (Veggies)            0.191578   \n",
      "2396       (GenHlth_1.0, BMI_23.0)  (PhysActivity)            0.011034   \n",
      "511   (Education_6.0, GenHlth_1.0)  (PhysActivity)            0.064689   \n",
      "504          (Fruits, GenHlth_1.0)       (Veggies)            0.082074   \n",
      "1985        (Income_8.0, BMI_22.0)       (Veggies)            0.014089   \n",
      "1107   (Fruits, HvyAlcoholConsump)       (Veggies)            0.022860   \n",
      "516      (GenHlth_1.0, Income_8.0)  (PhysActivity)            0.057857   \n",
      "53         (Fruits, Education_6.0)       (Veggies)            0.247864   \n",
      "1854            (Fruits, BMI_20.0)       (Veggies)            0.012279   \n",
      "1306             (Fruits, Age_3.0)       (Veggies)            0.017612   \n",
      "\n",
      "      consequent support   support  confidence      lift  representativity  \\\n",
      "126             0.788774  0.175989    0.918630  1.164630               1.0   \n",
      "2396            0.703036  0.010128    0.917949  1.305693               1.0   \n",
      "511             0.703036  0.059059    0.912967  1.298607               1.0   \n",
      "504             0.788774  0.074902    0.912616  1.157006               1.0   \n",
      "1985            0.788774  0.012844    0.911647  1.155777               1.0   \n",
      "1107            0.788774  0.020780    0.909035  1.152466               1.0   \n",
      "516             0.703036  0.052580    0.908802  1.292683               1.0   \n",
      "53              0.788774  0.225146    0.908344  1.151590               1.0   \n",
      "1854            0.788774  0.011105    0.904378  1.146562               1.0   \n",
      "1306            0.788774  0.015914    0.903614  1.145594               1.0   \n",
      "\n",
      "      leverage  conviction  zhangs_metric   jaccard  certainty  kulczynski  \n",
      "126   0.024877    2.595858       0.174857  0.218793   0.614771    0.570873  \n",
      "2396  0.002371    3.619252       0.236735  0.014388   0.723700    0.466178  \n",
      "511   0.013580    3.412105       0.245848  0.083338   0.706926    0.498487  \n",
      "504   0.010164    2.417227       0.147834  0.094105   0.586303    0.503788  \n",
      "1985  0.001731    2.390696       0.136707  0.016258   0.581712    0.463965  \n",
      "1107  0.002749    2.322051       0.135390  0.026276   0.569346    0.467690  \n",
      "516   0.011905    3.256257       0.240319  0.074233   0.692899    0.491796  \n",
      "53    0.029637    2.304548       0.175015  0.277447   0.566076    0.596891  \n",
      "1854  0.001419    2.208968       0.129416  0.014057   0.547300    0.459228  \n",
      "1306  0.002023    2.191471       0.129369  0.020132   0.543686    0.461895  \n"
     ]
    }
   ],
   "source": [
    "# Generar reglas de asociación\n",
    "\n",
    "rules = association_rules(frequent_itemsets_fp,len(frequent_itemsets_fp), metric=\"confidence\", min_threshold=0.7)\n",
    "\n",
    "# Ordenar las reglas por confianza\n",
    "rules_sorted = rules.sort_values(by=\"confidence\", ascending=False)\n",
    "\n",
    "# Mostrar las mejores reglas por confianza\n",
    "print(\"\\n==== Mejores reglas con mayor confianza ====\")\n",
    "print(rules_sorted.head(10))\n",
    "\n",
    "# Filtrar las mejores reglas según la confianza para la categoría Diabetes\n",
    "def get_top_rules_by_confidence(rules, consequent, top_n=5):\n",
    "    filtered_rules = rules[rules['consequents'].apply(lambda x: consequent in str(x))]\n",
    "    sorted_rules = filtered_rules.sort_values(by=\"confidence\", ascending=False)\n",
    "    return sorted_rules.head(top_n)\n",
    "\n",
    "if rules_sorted is not None:\n",
    "    # 4. Buscar reglas relacionadas con Diabetes_binary\n",
    "    diabetes_rules = rules_sorted[rules_sorted['consequents'].apply(\n",
    "        lambda x: any('Diabetes_binary' in str(item) for item in x)\n",
    "    )]\n",
    "    "
   ]
  },
  {
   "cell_type": "code",
   "execution_count": 6,
   "id": "ac8648d8",
   "metadata": {},
   "outputs": [
    {
     "name": "stdout",
     "output_type": "stream",
     "text": [
      "\n",
      "Estadísticas generales:\n",
      "Total de reglas: 2575\n",
      "Reglas con Diabetes_binary: 201\n",
      "Reglas con Diabetes_binary:\n",
      "                                antecedents        consequents  confidence   support\n",
      "2069    (HeartDiseaseorAttack, GenHlth_5.0)  (Diabetes_binary)    0.854381  0.028136\n",
      "2042                (GenHlth_5.0, Age_10.0)  (Diabetes_binary)    0.845630  0.010539\n",
      "2056                (HighChol, GenHlth_5.0)  (Diabetes_binary)    0.842351  0.048450\n",
      "2005                  (GenHlth_5.0, HighBP)  (Diabetes_binary)    0.834172  0.053938\n",
      "1491       (HeartDiseaseorAttack, DiffWalk)  (Diabetes_binary)    0.829824  0.060771\n",
      "463                   (Stroke, GenHlth_5.0)  (Diabetes_binary)    0.819804  0.013000\n",
      "203   (HeartDiseaseorAttack, PhysHlth_30.0)  (Diabetes_binary)    0.819473  0.027740\n",
      "473          (Stroke, HeartDiseaseorAttack)  (Diabetes_binary)    0.816775  0.023143\n",
      "2196  (HeartDiseaseorAttack, MentHlth_30.0)  (Diabetes_binary)    0.815945  0.011727\n",
      "2231              (Income_2.0, GenHlth_5.0)  (Diabetes_binary)    0.814700  0.011133\n"
     ]
    }
   ],
   "source": [
    "print(\"\\nEstadísticas generales:\")\n",
    "print(f\"Total de reglas: {len(rules)}\")\n",
    "print(f\"Reglas con Diabetes_binary: {len(diabetes_rules)}\")\n",
    "print(f\"Reglas con Diabetes_binary:\")\n",
    "print(diabetes_rules.sort_values('confidence', ascending=False)\n",
    "        [['antecedents', 'consequents', 'confidence', 'support']]\n",
    "        .head(10)\n",
    "        .to_string())"
   ]
  },
  {
   "cell_type": "markdown",
   "id": "7577bea2",
   "metadata": {},
   "source": [
    "### APRIORI"
   ]
  },
  {
   "cell_type": "markdown",
   "id": "7ddaff2c",
   "metadata": {},
   "source": [
    "El algoritmo Apriori es una opción valiosa para el análisis de datos sobre diabetes, síntomas y estilo de vida porque permite descubrir reglas de asociación que revelan relaciones significativas entre diferentes variables. Estas reglas, del tipo \"si condición A, entonces condición B\", ofrecen patrones interpretables que facilitan la identificación de factores de riesgo comunes o combinaciones de síntomas asociados con el diagnóstico de diabetes.\n",
    "\n",
    "Además, Apriori permite ajustar umbrales de soporte y confianza, lo que ayuda a filtrar patrones irrelevantes y destacar solo las relaciones más significativas en el contexto clínico. Su enfoque es especialmente útil para manejar datos categóricos y discretos, como registros médicos, donde las relaciones entre síntomas, antecedentes familiares y hábitos de vida son esenciales para el diagnóstico personalizado. Aunque puede ser más intensivo en recursos que otros algoritmos, su capacidad para generar reglas claras y comprensibles lo convierte en una herramienta adecuada para mejorar la toma de decisiones en el manejo de la diabetes."
   ]
  },
  {
   "cell_type": "code",
   "execution_count": null,
   "id": "11cc8eea",
   "metadata": {},
   "outputs": [],
   "source": [
    "# Ejecutar Apriori\n",
    "frequent_itemsets_ap = apriori(df, 0.01, use_colnames=True, max_len=3)\n",
    "\n",
    "# Mostrar los conjuntos de ítems frecuentes\n",
    "print(frequent_itemsets_ap)"
   ]
  },
  {
   "cell_type": "code",
   "execution_count": 8,
   "id": "ddc7cf3d",
   "metadata": {},
   "outputs": [
    {
     "name": "stdout",
     "output_type": "stream",
     "text": [
      "\n",
      "==== Mejores reglas con mayor confianza ====\n",
      "                       antecedents     consequents  antecedent support  \\\n",
      "1897          (Fruits, Income_8.0)       (Veggies)            0.191578   \n",
      "788        (GenHlth_1.0, BMI_23.0)  (PhysActivity)            0.011034   \n",
      "1780  (Education_6.0, GenHlth_1.0)  (PhysActivity)            0.064689   \n",
      "1859         (Fruits, GenHlth_1.0)       (Veggies)            0.082074   \n",
      "763         (Income_8.0, BMI_22.0)       (Veggies)            0.014089   \n",
      "1882   (Fruits, HvyAlcoholConsump)       (Veggies)            0.022860   \n",
      "1955     (GenHlth_1.0, Income_8.0)  (PhysActivity)            0.057857   \n",
      "1777       (Fruits, Education_6.0)       (Veggies)            0.247864   \n",
      "719             (Fruits, BMI_20.0)       (Veggies)            0.012279   \n",
      "482              (Fruits, Age_3.0)       (Veggies)            0.017612   \n",
      "\n",
      "      consequent support   support  confidence      lift  representativity  \\\n",
      "1897            0.788774  0.175989    0.918630  1.164630               1.0   \n",
      "788             0.703036  0.010128    0.917949  1.305693               1.0   \n",
      "1780            0.703036  0.059059    0.912967  1.298607               1.0   \n",
      "1859            0.788774  0.074902    0.912616  1.157006               1.0   \n",
      "763             0.788774  0.012844    0.911647  1.155777               1.0   \n",
      "1882            0.788774  0.020780    0.909035  1.152466               1.0   \n",
      "1955            0.703036  0.052580    0.908802  1.292683               1.0   \n",
      "1777            0.788774  0.225146    0.908344  1.151590               1.0   \n",
      "719             0.788774  0.011105    0.904378  1.146562               1.0   \n",
      "482             0.788774  0.015914    0.903614  1.145594               1.0   \n",
      "\n",
      "      leverage  conviction  zhangs_metric   jaccard  certainty  kulczynski  \n",
      "1897  0.024877    2.595858       0.174857  0.218793   0.614771    0.570873  \n",
      "788   0.002371    3.619252       0.236735  0.014388   0.723700    0.466178  \n",
      "1780  0.013580    3.412105       0.245848  0.083338   0.706926    0.498487  \n",
      "1859  0.010164    2.417227       0.147834  0.094105   0.586303    0.503788  \n",
      "763   0.001731    2.390696       0.136707  0.016258   0.581712    0.463965  \n",
      "1882  0.002749    2.322051       0.135390  0.026276   0.569346    0.467690  \n",
      "1955  0.011905    3.256257       0.240319  0.074233   0.692899    0.491796  \n",
      "1777  0.029637    2.304548       0.175015  0.277447   0.566076    0.596891  \n",
      "719   0.001419    2.208968       0.129416  0.014057   0.547300    0.459228  \n",
      "482   0.002023    2.191471       0.129369  0.020132   0.543686    0.461895  \n"
     ]
    }
   ],
   "source": [
    "# Generar reglas de asociación\n",
    "\n",
    "rules = association_rules(frequent_itemsets_ap,len(frequent_itemsets_ap), metric=\"confidence\", min_threshold=0.7)\n",
    "\n",
    "# Ordenar las reglas por confianza\n",
    "rules_sorted = rules.sort_values(by=\"confidence\", ascending=False)\n",
    "\n",
    "# Mostrar las mejores reglas por confianza\n",
    "print(\"\\n==== Mejores reglas con mayor confianza ====\")\n",
    "print(rules_sorted.head(10))\n",
    "\n",
    "# Filtrar las mejores reglas según la confianza para la categoría Diabetes\n",
    "def get_top_rules_by_confidence(rules, consequent, top_n=5):\n",
    "    filtered_rules = rules[rules['consequents'].apply(lambda x: consequent in str(x))]\n",
    "    sorted_rules = filtered_rules.sort_values(by=\"confidence\", ascending=False)\n",
    "    return sorted_rules.head(top_n)\n",
    "\n",
    "if rules_sorted is not None:\n",
    "    # 4. Buscar reglas relacionadas con Diabetes_binary\n",
    "    diabetes_rules = rules_sorted[rules_sorted['consequents'].apply(\n",
    "        lambda x: any('Diabetes_binary' in str(item) for item in x)\n",
    "    )]\n",
    "    "
   ]
  },
  {
   "cell_type": "code",
   "execution_count": 9,
   "id": "1f566c75",
   "metadata": {},
   "outputs": [
    {
     "name": "stdout",
     "output_type": "stream",
     "text": [
      "\n",
      "Estadísticas generales:\n",
      "Total de reglas: 2575\n",
      "Reglas con Diabetes_binary: 201\n",
      "Reglas con Diabetes_binary:\n",
      "                                antecedents        consequents  confidence   support\n",
      "1417    (HeartDiseaseorAttack, GenHlth_5.0)  (Diabetes_binary)    0.854381  0.028136\n",
      "186                 (GenHlth_5.0, Age_10.0)  (Diabetes_binary)    0.845630  0.010539\n",
      "1420                (HighChol, GenHlth_5.0)  (Diabetes_binary)    0.842351  0.048450\n",
      "1419                  (GenHlth_5.0, HighBP)  (Diabetes_binary)    0.834172  0.053938\n",
      "1322       (HeartDiseaseorAttack, DiffWalk)  (Diabetes_binary)    0.829824  0.060771\n",
      "1431                  (Stroke, GenHlth_5.0)  (Diabetes_binary)    0.819804  0.013000\n",
      "1448  (HeartDiseaseorAttack, PhysHlth_30.0)  (Diabetes_binary)    0.819473  0.027740\n",
      "1451         (Stroke, HeartDiseaseorAttack)  (Diabetes_binary)    0.816775  0.023143\n",
      "1445  (HeartDiseaseorAttack, MentHlth_30.0)  (Diabetes_binary)    0.815945  0.011727\n",
      "1422              (Income_2.0, GenHlth_5.0)  (Diabetes_binary)    0.814700  0.011133\n"
     ]
    }
   ],
   "source": [
    "print(\"\\nEstadísticas generales:\")\n",
    "print(f\"Total de reglas: {len(rules)}\")\n",
    "print(f\"Reglas con Diabetes_binary: {len(diabetes_rules)}\")\n",
    "print(f\"Reglas con Diabetes_binary:\")\n",
    "print(diabetes_rules.sort_values('confidence', ascending=False)\n",
    "        [['antecedents', 'consequents', 'confidence', 'support']]\n",
    "        .head(10)\n",
    "        .to_string())"
   ]
  },
  {
   "cell_type": "markdown",
   "id": "e67d1c5f",
   "metadata": {},
   "source": [
    "## Conclusión \n",
    "\n",
    "#### Análisis de las 10 reglas de asociación con mayor confianza\n",
    "\n",
    "Todas estas reglas gozan de una confianza superiores a 0.80. De estas podemos obtener un perfil común en pacientes con diabetes/prediabetes:  \n",
    "\n",
    "    - Los pacientes consideran tener una mala salud general.\n",
    "    - Los pacientes han padecido enfermedad coronaria (CHD) o infarto de miocardio (IM).  \n",
    "    - Los pacientes tienen entre 65-70 años.   \n",
    "    - Los pacientes tienen colesterol alto.  \n",
    "    - Los pacientes son hipertensos.\n",
    "    - Los pacientes tienen dificultad para caminar y subir escaleras.\n",
    "    - Los pacientes han sufrido un derrame cerebral.\n",
    "    - Los pacientes han padecido de enfermedades o lesiones físicas los 30 días del pasado mes. \n",
    "    - Los pacientes han tenido una mala salud mental los 30 días del pasado mes. \n",
    "    - Los pacientes tienen bajos ingresos."
   ]
  },
  {
   "cell_type": "markdown",
   "id": "933ffe7b",
   "metadata": {},
   "source": [
    "Así mismo, se pueden observar relaciones entre el consumo de frutas y verduras con un buen estado de salud y un BMI entre 20.0-23.0"
   ]
  }
 ],
 "metadata": {
  "kernelspec": {
   "display_name": "Python 3",
   "language": "python",
   "name": "python3"
  },
  "language_info": {
   "codemirror_mode": {
    "name": "ipython",
    "version": 3
   },
   "file_extension": ".py",
   "mimetype": "text/x-python",
   "name": "python",
   "nbconvert_exporter": "python",
   "pygments_lexer": "ipython3",
   "version": "3.10.11"
  }
 },
 "nbformat": 4,
 "nbformat_minor": 5
}
